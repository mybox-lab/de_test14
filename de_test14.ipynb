{
  "nbformat": 4,
  "nbformat_minor": 0,
  "metadata": {
    "colab": {
      "provenance": [],
      "authorship_tag": "ABX9TyNi9gjQjdl5Unrh7Fwj7SGe",
      "include_colab_link": true
    },
    "kernelspec": {
      "name": "python3",
      "display_name": "Python 3"
    },
    "language_info": {
      "name": "python"
    }
  },
  "cells": [
    {
      "cell_type": "markdown",
      "metadata": {
        "id": "view-in-github",
        "colab_type": "text"
      },
      "source": [
        "<a href=\"https://colab.research.google.com/github/mybox-lab/de_test14/blob/main/de_test14.ipynb\" target=\"_parent\"><img src=\"https://colab.research.google.com/assets/colab-badge.svg\" alt=\"Open In Colab\"/></a>"
      ]
    },
    {
      "cell_type": "code",
      "execution_count": 1,
      "metadata": {
        "colab": {
          "base_uri": "https://localhost:8080/"
        },
        "id": "eNBh4vz-siH2",
        "outputId": "8df127cc-eb81-47e6-ef8d-8c01adbb5bba"
      },
      "outputs": [
        {
          "output_type": "stream",
          "name": "stdout",
          "text": [
            "Collecting faker\n",
            "  Downloading Faker-28.4.1-py3-none-any.whl.metadata (15 kB)\n",
            "Requirement already satisfied: python-dateutil>=2.4 in /usr/local/lib/python3.10/dist-packages (from faker) (2.8.2)\n",
            "Requirement already satisfied: six>=1.5 in /usr/local/lib/python3.10/dist-packages (from python-dateutil>=2.4->faker) (1.16.0)\n",
            "Downloading Faker-28.4.1-py3-none-any.whl (1.8 MB)\n",
            "\u001b[2K   \u001b[90m━━━━━━━━━━━━━━━━━━━━━━━━━━━━━━━━━━━━━━━━\u001b[0m \u001b[32m1.8/1.8 MB\u001b[0m \u001b[31m24.1 MB/s\u001b[0m eta \u001b[36m0:00:00\u001b[0m\n",
            "\u001b[?25hInstalling collected packages: faker\n",
            "Successfully installed faker-28.4.1\n"
          ]
        }
      ],
      "source": [
        "!pip install faker"
      ]
    },
    {
      "cell_type": "code",
      "source": [
        "import csv\n",
        "from faker import Faker\n",
        "import random\n",
        "\n",
        "fake = Faker()\n",
        "\n",
        "num_records = 100000\n",
        "\n",
        "http_methods = ['GET', 'POST', 'PUT', 'DELETE']\n",
        "response_codes = [200, 301, 404, 500]\n",
        "\n",
        "file_path = \"web_server_logs.csv\"\n",
        "\n",
        "with open(file_path, mode='w', newline='') as file:\n",
        "    writer = csv.writer(file)\n",
        "    writer.writerow(['ip', 'timestamp', 'method', 'url', 'response_code', 'response_size'])\n",
        "\n",
        "    for _ in range(num_records):\n",
        "        ip = fake.ipv4()\n",
        "        timestamp = fake.date_time_this_year().isoformat()\n",
        "        method = random.choice(http_methods)\n",
        "        url = fake.uri_path()\n",
        "        response_code = random.choice(response_codes)\n",
        "        response_size = random.randint(100, 10000)\n",
        "\n",
        "        writer.writerow([ip, timestamp, method, url, response_code, response_size])\n",
        "\n",
        "print(f\"Сгенерировано {num_records} записей и сохранено в {file_path}\")"
      ],
      "metadata": {
        "colab": {
          "base_uri": "https://localhost:8080/"
        },
        "id": "AyOs42YiswXx",
        "outputId": "a37f347e-b82e-45cd-ac5a-a3f35ec97a67"
      },
      "execution_count": 2,
      "outputs": [
        {
          "output_type": "stream",
          "name": "stdout",
          "text": [
            "Сгенерировано 100000 записей и сохранено в web_server_logs.csv\n"
          ]
        }
      ]
    },
    {
      "cell_type": "code",
      "source": [
        "!pip install pyspark py4j"
      ],
      "metadata": {
        "colab": {
          "base_uri": "https://localhost:8080/"
        },
        "id": "3_QYSWy1tCgc",
        "outputId": "9e82b307-a1f5-4be1-f0c8-01fda580b3eb"
      },
      "execution_count": 3,
      "outputs": [
        {
          "output_type": "stream",
          "name": "stdout",
          "text": [
            "Collecting pyspark\n",
            "  Downloading pyspark-3.5.2.tar.gz (317.3 MB)\n",
            "\u001b[2K     \u001b[90m━━━━━━━━━━━━━━━━━━━━━━━━━━━━━━━━━━━━━━━━\u001b[0m \u001b[32m317.3/317.3 MB\u001b[0m \u001b[31m4.9 MB/s\u001b[0m eta \u001b[36m0:00:00\u001b[0m\n",
            "\u001b[?25h  Preparing metadata (setup.py) ... \u001b[?25l\u001b[?25hdone\n",
            "Requirement already satisfied: py4j in /usr/local/lib/python3.10/dist-packages (0.10.9.7)\n",
            "Building wheels for collected packages: pyspark\n",
            "  Building wheel for pyspark (setup.py) ... \u001b[?25l\u001b[?25hdone\n",
            "  Created wheel for pyspark: filename=pyspark-3.5.2-py2.py3-none-any.whl size=317812365 sha256=dd648e1c12489d681258ae59c1263a70528d7833cae1f984e5c08eada53dc584\n",
            "  Stored in directory: /root/.cache/pip/wheels/34/34/bd/03944534c44b677cd5859f248090daa9fb27b3c8f8e5f49574\n",
            "Successfully built pyspark\n",
            "Installing collected packages: pyspark\n",
            "Successfully installed pyspark-3.5.2\n"
          ]
        }
      ]
    },
    {
      "cell_type": "code",
      "source": [
        "from pyspark.sql import SparkSession\n",
        "from pyspark.sql.functions import col, count, sum as spark_sum, to_date\n",
        "\n",
        "# Создаем Spark-сессию\n",
        "spark = SparkSession.builder \\\n",
        "    .appName(\"Web Server Log Analysis\") \\\n",
        "    .getOrCreate()\n",
        "\n",
        "# Загружаем CSV-файл в Spark DataFrame\n",
        "file_path = \"web_server_logs.csv\"\n",
        "df = spark.read.csv(file_path, header=True, inferSchema=True)\n",
        "\n",
        "# Просмотр структуры данных\n",
        "df.printSchema()"
      ],
      "metadata": {
        "colab": {
          "base_uri": "https://localhost:8080/"
        },
        "id": "0b49wkJetAg_",
        "outputId": "5c3c888f-705f-4f33-8e65-c31e0804c548"
      },
      "execution_count": 4,
      "outputs": [
        {
          "output_type": "stream",
          "name": "stdout",
          "text": [
            "root\n",
            " |-- ip: string (nullable = true)\n",
            " |-- timestamp: timestamp (nullable = true)\n",
            " |-- method: string (nullable = true)\n",
            " |-- url: string (nullable = true)\n",
            " |-- response_code: integer (nullable = true)\n",
            " |-- response_size: integer (nullable = true)\n",
            "\n"
          ]
        }
      ]
    },
    {
      "cell_type": "code",
      "source": [
        "# Группируем по IP и считаем количество запросов для каждого IP\n",
        "ip_group = df.groupBy(\"ip\").agg(count(\"*\").alias(\"request_count\"))\n",
        "\n",
        "# Отсортировать по количеству запросов и вывести топ-10\n",
        "top_10_ips = ip_group.orderBy(col(\"request_count\").desc()).limit(10)\n",
        "\n",
        "# Выводим результат\n",
        "print(\"Top 10 active IP addresses\")\n",
        "top_10_ips.show()"
      ],
      "metadata": {
        "colab": {
          "base_uri": "https://localhost:8080/"
        },
        "id": "TfNCvazrtcM6",
        "outputId": "757d618c-fad1-4935-cc54-1538db07db29"
      },
      "execution_count": 6,
      "outputs": [
        {
          "output_type": "stream",
          "name": "stdout",
          "text": [
            "Top 10 active IP addresses\n",
            "+---------------+-------------+\n",
            "|             ip|request_count|\n",
            "+---------------+-------------+\n",
            "|   106.5.41.138|            1|\n",
            "|  16.125.110.90|            1|\n",
            "| 199.32.201.251|            1|\n",
            "| 134.133.115.95|            1|\n",
            "|130.194.241.114|            1|\n",
            "|147.114.117.155|            1|\n",
            "|  75.191.248.93|            1|\n",
            "| 155.153.198.39|            1|\n",
            "| 147.244.173.43|            1|\n",
            "|  25.130.207.69|            1|\n",
            "+---------------+-------------+\n",
            "\n"
          ]
        }
      ]
    },
    {
      "cell_type": "code",
      "source": [
        "# Группировка по HTTP-методу и подсчет количества запросов\n",
        "method_group = df.groupBy(\"method\").agg(count(\"*\").alias(\"method_count\"))\n",
        "\n",
        "# Выводим результат\n",
        "print(\"Request count by HTTP method\")\n",
        "method_group.show()"
      ],
      "metadata": {
        "colab": {
          "base_uri": "https://localhost:8080/"
        },
        "id": "UBw8AiY9t0yn",
        "outputId": "76096e27-a9c6-4492-c2ee-5ec7bfea1bee"
      },
      "execution_count": 11,
      "outputs": [
        {
          "output_type": "stream",
          "name": "stdout",
          "text": [
            "Request count by HTTP method\n",
            "+------+------------+\n",
            "|method|method_count|\n",
            "+------+------------+\n",
            "|  POST|       24752|\n",
            "|DELETE|       25166|\n",
            "|   PUT|       25222|\n",
            "|   GET|       24860|\n",
            "+------+------------+\n",
            "\n"
          ]
        }
      ]
    },
    {
      "cell_type": "code",
      "source": [
        "# Фильтруем по коду ответа 404 и считаем количество запросов\n",
        "not_found_count = df.filter(col(\"response_code\") == 404).count()\n",
        "\n",
        "# Выводим результат\n",
        "print(f\"Number of 404 response codes: {not_found_count}\")"
      ],
      "metadata": {
        "colab": {
          "base_uri": "https://localhost:8080/"
        },
        "id": "faCl34hmuG_n",
        "outputId": "6e9bf784-3938-47cd-eee8-cb6fdf9cb18a"
      },
      "execution_count": 9,
      "outputs": [
        {
          "output_type": "stream",
          "name": "stdout",
          "text": [
            "Number of 404 response codes: 24968\n"
          ]
        }
      ]
    },
    {
      "cell_type": "code",
      "source": [
        "# Преобразуем столбец timestamp в дату\n",
        "df = df.withColumn(\"date\", to_date(col(\"timestamp\")))\n",
        "\n",
        "# Группировка по дате и суммирование размера ответов\n",
        "date_group = df.groupBy(\"date\").agg(spark_sum(\"response_size\").alias(\"total_response_size\"))\n",
        "\n",
        "# Сортировка по дате\n",
        "date_group_sorted = date_group.orderBy(\"date\")\n",
        "\n",
        "# Выводим результат\n",
        "print(\"Total response size by day\")\n",
        "date_group_sorted.show()"
      ],
      "metadata": {
        "colab": {
          "base_uri": "https://localhost:8080/"
        },
        "id": "ulrtVpxkulZm",
        "outputId": "0712f8ce-51c5-4a6b-8d87-184432995da9"
      },
      "execution_count": 10,
      "outputs": [
        {
          "output_type": "stream",
          "name": "stdout",
          "text": [
            "Total response size by day\n",
            "+----------+-------------------+\n",
            "|      date|total_response_size|\n",
            "+----------+-------------------+\n",
            "|2024-01-01|            1806975|\n",
            "|2024-01-02|            2218508|\n",
            "|2024-01-03|            2108598|\n",
            "|2024-01-04|            1960409|\n",
            "|2024-01-05|            1891728|\n",
            "|2024-01-06|            1965383|\n",
            "|2024-01-07|            1991990|\n",
            "|2024-01-08|            2041413|\n",
            "|2024-01-09|            1960275|\n",
            "|2024-01-10|            2030183|\n",
            "|2024-01-11|            2139162|\n",
            "|2024-01-12|            2069330|\n",
            "|2024-01-13|            2140219|\n",
            "|2024-01-14|            2024670|\n",
            "|2024-01-15|            1874887|\n",
            "|2024-01-16|            2262220|\n",
            "|2024-01-17|            1979441|\n",
            "|2024-01-18|            2248879|\n",
            "|2024-01-19|            2122195|\n",
            "|2024-01-20|            2076936|\n",
            "+----------+-------------------+\n",
            "only showing top 20 rows\n",
            "\n"
          ]
        }
      ]
    }
  ]
}